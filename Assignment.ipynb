{
 "cells": [
  {
   "cell_type": "code",
   "execution_count": 1,
   "metadata": {},
   "outputs": [
    {
     "name": "stdout",
     "output_type": "stream",
     "text": [
      "Hani Bashar Hani Al-Omari\n",
      "116413\n",
      "\"When something is important enough, you do it even if the odds are not in your favor.\" - Elon Musk\n"
     ]
    }
   ],
   "source": [
    "print (\"Hani Bashar Hani Al-Omari\")\n",
    "print (\"116413\")\n",
    "print (\"\\\"When something is important enough, you do it even if the odds are not in your favor.\\\" - Elon Musk\")"
   ]
  }
 ],
 "metadata": {
  "kernelspec": {
   "display_name": "Python 3",
   "language": "python",
   "name": "python3"
  },
  "language_info": {
   "codemirror_mode": {
    "name": "ipython",
    "version": 3
   },
   "file_extension": ".py",
   "mimetype": "text/x-python",
   "name": "python",
   "nbconvert_exporter": "python",
   "pygments_lexer": "ipython3",
   "version": "3.6.5"
  }
 },
 "nbformat": 4,
 "nbformat_minor": 2
}
